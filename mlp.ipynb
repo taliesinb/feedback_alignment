{
 "cells": [
  {
   "cell_type": "code",
   "execution_count": null,
   "metadata": {},
   "outputs": [],
   "source": [
    "import fa"
   ]
  },
  {
   "cell_type": "code",
   "execution_count": null,
   "metadata": {},
   "outputs": [],
   "source": [
    "import torch\n",
    "from torch import nn\n",
    "import torch.nn.functional as F \n",
    "import numpy as np\n",
    "import matplotlib.pyplot as plt\n",
    "import torch.optim as optim\n",
    "from torch.utils.data import TensorDataset, DataLoader"
   ]
  },
  {
   "cell_type": "code",
   "execution_count": null,
   "metadata": {},
   "outputs": [],
   "source": [
    "class MLP(nn.Module):\n",
    "    def __init__(self, sizes, func=nn.Linear):\n",
    "        super().__init__()\n",
    "        self.layers = nn.ModuleList()\n",
    "        for n1, n2 in zip(sizes[:-1], sizes[1:]):\n",
    "            self.layers.append(func(n1, n2))\n",
    "    \n",
    "    def forward(self, x):\n",
    "        for l in self.layers[:-1]:\n",
    "            x = F.relu(l(x))\n",
    "        return self.layers[-1](x)\n",
    "    \n",
    "net = MLP([1, 5, 5, 1])"
   ]
  },
  {
   "cell_type": "code",
   "execution_count": null,
   "metadata": {},
   "outputs": [],
   "source": [
    "def toT(x):\n",
    "    return torch.tensor(x, dtype=torch.float32, requires_grad=False)\n",
    "\n",
    "def fromT(x):\n",
    "    return x.detach().numpy()"
   ]
  },
  {
   "cell_type": "code",
   "execution_count": null,
   "metadata": {},
   "outputs": [],
   "source": [
    "n = 1000\n",
    "x = np.linspace(-2, 2, n).reshape(-1, 1)\n",
    "y = x + 0.1 * np.random.randn(*x.shape)\n",
    "plt.plot(x, y, 'ro')"
   ]
  },
  {
   "cell_type": "code",
   "execution_count": null,
   "metadata": {},
   "outputs": [],
   "source": [
    "dataset = TensorDataset(toT(x), toT(y))\n",
    "loader = DataLoader(dataset, batch_size=64, shuffle=True)"
   ]
  },
  {
   "cell_type": "code",
   "execution_count": null,
   "metadata": {},
   "outputs": [],
   "source": [
    "def train(net, loader, epochs=50):\n",
    "    criterion = nn.MSELoss()\n",
    "    optimizer = optim.Adam(net.parameters())\n",
    "    losses = []\n",
    "    every = 1000\n",
    "    for epoch in range(epochs):\n",
    "        running_loss = 0.0\n",
    "        i = 0\n",
    "\n",
    "        for batch in loader:\n",
    "            inputs, targets = batch\n",
    "\n",
    "            # zero the parameter gradients\n",
    "            optimizer.zero_grad()\n",
    "\n",
    "            # forward + backward + optimize\n",
    "            outputs = net(inputs)\n",
    "            loss = criterion(outputs, targets)\n",
    "            loss.backward()\n",
    "            optimizer.step()\n",
    "\n",
    "            # print statistics\n",
    "            running_loss += loss.item()\n",
    "            i+=1\n",
    "            if i % every == 1:    # print every 2000 mini-batches\n",
    "                running_loss /= every\n",
    "                losses.append(running_loss)\n",
    "                #print('[%d, %5d] loss: %.3f' % (epoch + 1, i + 1, running_loss / 50))\n",
    "                running_loss = 0.0\n",
    "\n",
    "    return losses"
   ]
  },
  {
   "cell_type": "code",
   "execution_count": null,
   "metadata": {},
   "outputs": [],
   "source": [
    "net = MLP([1, 5, 5, 1])\n",
    "train(net, loader, 100)"
   ]
  },
  {
   "cell_type": "code",
   "execution_count": null,
   "metadata": {},
   "outputs": [],
   "source": [
    "plt.figure(0)\n",
    "\n",
    "net1 = MLP([1, 5, 5, 1])\n",
    "loss1 = train(net1, loader, 100)\n",
    "\n",
    "net2 = MLP([1, 5, 5, 1], func=fa.FALinear)\n",
    "loss2 = train(net2, loader, 500)\n",
    "plt.plot(loss1)\n",
    "plt.plot(loss2)\n",
    "\n",
    "plt.figure(1)\n",
    "x = np.linspace(-2, 2, n).reshape(-1, 1)\n",
    "y2 = fromT(net1(toT(x)))\n",
    "y3 = fromT(net2(toT(x)))\n",
    "plt.plot(x, y2)\n",
    "plt.plot(x, y3)"
   ]
  }
 ],
 "metadata": {
  "kernelspec": {
   "display_name": "Python 3",
   "language": "python",
   "name": "python3"
  },
  "language_info": {
   "codemirror_mode": {
    "name": "ipython",
    "version": 3
   },
   "file_extension": ".py",
   "mimetype": "text/x-python",
   "name": "python",
   "nbconvert_exporter": "python",
   "pygments_lexer": "ipython3",
   "version": "3.7.1"
  }
 },
 "nbformat": 4,
 "nbformat_minor": 2
}
