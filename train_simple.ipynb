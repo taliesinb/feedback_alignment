{
 "cells": [
  {
   "cell_type": "markdown",
   "metadata": {},
   "source": [
    "# Fitting a gaussian curve with an MLP"
   ]
  },
  {
   "cell_type": "code",
   "execution_count": null,
   "metadata": {},
   "outputs": [],
   "source": [
    "%load_ext autoreload\n",
    "%autoreload 2\n",
    "%matplotlib inline\n",
    "\n",
    "from fa import *\n",
    "from train import *\n",
    "from utils import *"
   ]
  },
  {
   "cell_type": "code",
   "execution_count": null,
   "metadata": {},
   "outputs": [],
   "source": [
    "n = 1000\n",
    "x = np.linspace(-2, 2, n).reshape(-1, 1)\n",
    "y = 0.5*np.exp(-(x*1.5)**2) - 0.3 + 0.02 * np.random.randn(*x.shape)\n",
    "plt.plot(x, y, 'ro');"
   ]
  },
  {
   "cell_type": "markdown",
   "metadata": {},
   "source": [
    "### Train with and without feedback alignment layers"
   ]
  },
  {
   "cell_type": "code",
   "execution_count": null,
   "metadata": {},
   "outputs": [],
   "source": [
    "dataset = tensor_data(x, y)\n",
    "\n",
    "net1 = MLP(1, 5, 1)\n",
    "loss1 = train_net(net1, dataset, 50, optimizer=\"Adam\")['loss']\n",
    "\n",
    "net2 = MLP(1, 5, 5, 1, linearity=FALinear)\n",
    "loss2 = train_net(net2, dataset, 50, optimizer=\"Adam\")['loss']\n",
    "\n",
    "# plot training curves\n",
    "plt.figure(0)\n",
    "plt.title(\"training curves\")\n",
    "plt.plot(loss1);\n",
    "plt.plot(loss2);\n",
    "plt.legend(['BP','FA']);\n",
    "\n",
    "# plot solutions\n",
    "plt.figure(1)\n",
    "plt.title(\"fits\")\n",
    "y2 = fromT(net1(toT(x)))\n",
    "y3 = fromT(net2(toT(x)))\n",
    "plt.plot(x, y, 'ro');\n",
    "plt.plot(x, y2)\n",
    "plt.plot(x, y3);\n",
    "plt.legend(['data', 'BP','FA']);"
   ]
  }
 ],
 "metadata": {
  "kernelspec": {
   "display_name": "Python 3",
   "language": "python",
   "name": "python3"
  },
  "language_info": {
   "codemirror_mode": {
    "name": "ipython",
    "version": 3
   },
   "file_extension": ".py",
   "mimetype": "text/x-python",
   "name": "python",
   "nbconvert_exporter": "python",
   "pygments_lexer": "ipython3",
   "version": "3.7.1"
  }
 },
 "nbformat": 4,
 "nbformat_minor": 2
}
