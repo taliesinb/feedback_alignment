{
 "cells": [
  {
   "cell_type": "markdown",
   "metadata": {},
   "source": [
    "# Solving MNIST with an MLP"
   ]
  },
  {
   "cell_type": "code",
   "execution_count": 1,
   "metadata": {},
   "outputs": [],
   "source": [
    "#%load_ext autoreload\n",
    "#%autoreload 2\n",
    "%matplotlib inline\n",
    "\n",
    "from importlib import reload\n",
    "\n",
    "import fa\n",
    "import ap\n",
    "\n",
    "from train import *\n",
    "from utils import *"
   ]
  },
  {
   "cell_type": "code",
   "execution_count": 2,
   "metadata": {},
   "outputs": [],
   "source": [
    "mnist = mnist_data()\n",
    "mnist_test = mnist_data(is_train=False)"
   ]
  },
  {
   "cell_type": "markdown",
   "metadata": {},
   "source": [
    "##### Second Order Activity Perturbation"
   ]
  },
  {
   "cell_type": "code",
   "execution_count": 3,
   "metadata": {},
   "outputs": [
    {
     "data": {
      "image/png": "[encoded data removed]",
      "text/plain": [
       "<Figure size 432x288 with 1 Axes>"
      ]
     },
     "metadata": {
      "needs_background": "light"
     },
     "output_type": "display_data"
    }
   ],
   "source": [
    "reload(fa)\n",
    "reload(ap)\n",
    "\n",
    "seed = 1\n",
    "h1 = 100\n",
    "h2 = 10\n",
    "soap_lr = 1\n",
    "soap_bias = 1e-3\n",
    "isize = 28 * 28\n",
    "\n",
    "train_args = {'regression':False, 'data': mnist, 'epochs': 0.2, 'optimizer':'SGD', 'sample_every':5, 'lr':0.05}\n",
    "\n",
    "torch.manual_seed(1)\n",
    "mlp1 = nn.Sequential(flatten(), fa.BPLinear(isize, h1), nn.Tanh(), fa.BPLinear(h1, h2))\n",
    "loss1 = train_net(mlp1, **train_args)['loss']\n",
    "\n",
    "torch.manual_seed(1)\n",
    "mlp2 = nn.Sequential(flatten(), fa.BPLinear(isize, h1), ap.SOAP(soap_lr, soap_bias), nn.Tanh(), fa.BPLinear(h1, h2))\n",
    "loss2 = train_net(mlp2, **train_args, updates=2)['loss']\n",
    "\n",
    "plt.figure(0)\n",
    "plt.title(\"training curves\")\n",
    "plt.semilogy(loss1);\n",
    "plt.semilogy(loss2);\n",
    "plt.legend(['BP', 'SO-BP']);"
   ]
  },
  {
   "cell_type": "markdown",
   "metadata": {},
   "source": [
    "##### Feedback Alignment vs Back Propogation"
   ]
  },
  {
   "cell_type": "code",
   "execution_count": null,
   "metadata": {},
   "outputs": [],
   "source": [
    "reload(fa)\n",
    "reload(ap)\n",
    "\n",
    "seed = 2\n",
    "h1 = 256\n",
    "h2 = 10\n",
    "soap_lr = 1.0\n",
    "soap_bias = 1e-3\n",
    "isize = 28 * 28\n",
    "\n",
    "train_args = {'regression':False, 'data': mnist, 'epochs': 2, 'optimizer':'SGD', 'sample_every':5, 'lr':0.01}\n",
    "\n",
    "torch.manual_seed(seed)\n",
    "mlp1 = nn.Sequential(flatten(), fa.BPLinear(isize, h1), nn.Tanh(), fa.BPLinear(h1, h2))\n",
    "loss1 = train_net(mlp1, **train_args)['loss']\n",
    "\n",
    "torch.manual_seed(seed)\n",
    "mlp2 = nn.Sequential(flatten(), fa.BPLinear(isize, h1), ap.SOAP(soap_lr, soap_bias), nn.Tanh(), fa.BPLinear(h1, h2))\n",
    "loss2 = train_net(mlp2, **train_args, updates=2)['loss']\n",
    "\n",
    "torch.manual_seed(seed)\n",
    "mlp3 = nn.Sequential(flatten(), fa.BPLinear(isize, h1), nn.Tanh(), fa.FALinear(h1, h2))\n",
    "loss3 = train_net(mlp3, **train_args)['loss']\n",
    "\n",
    "torch.manual_seed(seed)\n",
    "mlp4 = nn.Sequential(flatten(), fa.BPLinear(isize, h1), ap.SOAP(soap_lr, soap_bias), nn.Tanh(), fa.FALinear(h1, h2))\n",
    "loss4 = train_net(mlp4, **train_args, updates=2)['loss']\n",
    "\n",
    "plt.figure(0)\n",
    "plt.title(\"training curves\")\n",
    "plt.semilogy(loss1);\n",
    "plt.semilogy(loss2);\n",
    "plt.semilogy(loss3);\n",
    "plt.semilogy(loss4);\n",
    "plt.legend(['BP', 'SO-BP', 'FA', 'SO-FA']);"
   ]
  },
  {
   "cell_type": "markdown",
   "metadata": {},
   "source": [
    "# Convnets"
   ]
  },
  {
   "cell_type": "markdown",
   "metadata": {},
   "source": [
    "### BP vs SO-BP"
   ]
  },
  {
   "cell_type": "code",
   "execution_count": null,
   "metadata": {},
   "outputs": [],
   "source": [
    "reload(fa)\n",
    "reload(ap)\n",
    "\n",
    "seed = 1\n",
    "soap_lr = 0.1\n",
    "\n",
    "train_args = {'regression':False, 'data': mnist_test, 'epochs': 2, 'optimizer':'SGD', 'sample_every':5, 'lr':0.01}\n",
    "\n",
    "torch.manual_seed(seed)\n",
    "conv1 = nn.Sequential(\n",
    "    nn.Conv2d(1, 6, 5), nn.ReLU(), nn.MaxPool2d(2), \n",
    "    nn.Conv2d(6, 16, 5), nn.ReLU(), nn.MaxPool2d(2), flatten(),\n",
    "    nn.Linear(256, 120), nn.ReLU(),\n",
    "    nn.Linear(120, 84), nn.ReLU(),\n",
    "    nn.Linear(84, 10)\n",
    ")                      \n",
    "\n",
    "torch.manual_seed(seed)\n",
    "conv2 = nn.Sequential(\n",
    "    nn.Conv2d(1, 6, 5), ap.SOAP(soap_lr), nn.ReLU(), nn.MaxPool2d(2), \n",
    "    nn.Conv2d(6, 16, 5), ap.SOAP(soap_lr), nn.ReLU(), nn.MaxPool2d(2), flatten(),\n",
    "    nn.Linear(256, 120), ap.SOAP(soap_lr), nn.ReLU(),\n",
    "    nn.Linear(120, 84), nn.ReLU(),\n",
    "    nn.Linear(84, 10)\n",
    ")\n",
    "\n",
    "loss1 = train_net(conv1, **train_args)['loss']\n",
    "loss2 = train_net(conv2, updates=2, **train_args)['loss']\n",
    "\n",
    "plt.figure(0)\n",
    "plt.title(\"training curves\")\n",
    "plt.semilogy(loss1);\n",
    "plt.semilogy(loss2);\n",
    "plt.legend(['BP','SO-BP'])"
   ]
  },
  {
   "cell_type": "markdown",
   "metadata": {},
   "source": [
    "### Measure accuracy"
   ]
  },
  {
   "cell_type": "code",
   "execution_count": null,
   "metadata": {},
   "outputs": [],
   "source": [
    "test_categorical_accuracy(mlp1, mnist_test)"
   ]
  },
  {
   "cell_type": "code",
   "execution_count": null,
   "metadata": {},
   "outputs": [],
   "source": [
    "test_categorical_accuracy(mlp2, mnist_test)"
   ]
  }
 ],
 "metadata": {
  "kernelspec": {
   "display_name": "Python 3",
   "language": "python",
   "name": "python3"
  },
  "language_info": {
   "codemirror_mode": {
    "name": "ipython",
    "version": 3
   },
   "file_extension": ".py",
   "mimetype": "text/x-python",
   "name": "python",
   "nbconvert_exporter": "python",
   "pygments_lexer": "ipython3",
   "version": "3.7.1"
  }
 },
 "nbformat": 4,
 "nbformat_minor": 2
}
